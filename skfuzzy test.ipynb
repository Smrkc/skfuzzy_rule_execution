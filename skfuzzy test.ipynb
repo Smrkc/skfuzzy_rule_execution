{
 "cells": [
  {
   "cell_type": "code",
   "execution_count": 1,
   "metadata": {
    "collapsed": true
   },
   "outputs": [],
   "source": [
    "import skfuzzy as fuzz\n",
    "from skfuzzy import control as ctrl\n",
    "import pandas as pd\n",
    "import numpy as np\n",
    "import matplotlib.pyplot as plt\n",
    "%matplotlib inline"
   ]
  },
  {
   "cell_type": "code",
   "execution_count": 2,
   "metadata": {
    "collapsed": true
   },
   "outputs": [],
   "source": [
    "def parse_rule(string, antecedents):\n",
    "    \n",
    "    def combine_memberships(string):\n",
    "        subs = string.split(\"/\")    \n",
    "        for ant in antecedents:\n",
    "            if subs[0] in ant.terms:\n",
    "                if len(subs) > 1:\n",
    "                    ant[\"{}\".format(string)] = reduce(lambda x, y: fuzz.fuzzy_or(ant.universe, x, ant.universe, y)[1], \n",
    "                                              [ant[sub].mf for sub in subs])\n",
    "\n",
    "                    return ant[\"{}\".format(string)]\n",
    "                else:\n",
    "                    return ant[\"{}\".format(string)]\n",
    "    \n",
    "    options = string.split(\"_\")\n",
    "    rules = reduce(lambda x, y: x & y, [combine_memberships(option) for option in options])\n",
    "    return rules"
   ]
  },
  {
   "cell_type": "code",
   "execution_count": 3,
   "metadata": {
    "collapsed": true
   },
   "outputs": [],
   "source": [
    "def create_rule(persona, gb, string):\n",
    "    if gb == \"good\":\n",
    "        return ctrl.Rule(antecedent=(parse_rule(string, antecedents)), \n",
    "                         consequent=persona[\"{}\".format(gb)])\n",
    "    return ctrl.Rule(antecedent=(inv_parse_rule(string, antecedents)), \n",
    "                         consequent=persona[\"{}\".format(\"bad\")])"
   ]
  },
  {
   "cell_type": "markdown",
   "metadata": {},
   "source": [
    "# Antecedents"
   ]
  },
  {
   "cell_type": "code",
   "execution_count": 4,
   "metadata": {
    "collapsed": true
   },
   "outputs": [],
   "source": [
    "channel = ctrl.Antecedent(np.arange(0, 1.1, 0.1), \"channel\")\n",
    "channel[\"cartoon\"] = fuzz.trimf(channel.universe, [0.2, 0.3, 0.4])\n",
    "channel[\"movie\"] = fuzz.trimf(channel.universe, [0.7, 0.8, 1])\n",
    "channel[\"music\"] = fuzz.trimf(channel.universe, [0.15, 0.2, 0.25])"
   ]
  },
  {
   "cell_type": "code",
   "execution_count": 5,
   "metadata": {
    "collapsed": true
   },
   "outputs": [],
   "source": [
    "means = ctrl.Antecedent(np.arange(0, 300, 5), \"means\")\n",
    "means[\"low\"] = fuzz.trimf(means.universe, [6, 15, 25])\n",
    "means[\"mid\"] = fuzz.trimf(means.universe, [18, 35, 80])\n",
    "means[\"high\"] = fuzz.trimf(means.universe, [60, 120, 200])"
   ]
  },
  {
   "cell_type": "code",
   "execution_count": 6,
   "metadata": {
    "collapsed": true
   },
   "outputs": [],
   "source": [
    "device = ctrl.Antecedent(np.arange(0, 2.1, 0.1), \"device\")\n",
    "device[\"A\"] = fuzz.trimf(device.universe, [0, 0, 0.8])\n",
    "device[\"B\"] = fuzz.trimf(device.universe, [0.5, 1 , 1.5])\n",
    "device[\"C\"] = fuzz.trimf(device.universe, [1.2, 2, 2])"
   ]
  },
  {
   "cell_type": "code",
   "execution_count": 7,
   "metadata": {
    "collapsed": true
   },
   "outputs": [],
   "source": [
    "antecedents = [channel, means, device]"
   ]
  },
  {
   "cell_type": "markdown",
   "metadata": {},
   "source": [
    "# Consequent"
   ]
  },
  {
   "cell_type": "code",
   "execution_count": 8,
   "metadata": {
    "collapsed": true
   },
   "outputs": [],
   "source": [
    "output = ctrl.Consequent(np.arange(0, 1, 0.01), \"output\")\n",
    "output[\"good\"] = fuzz.trimf(output.universe, [0.5, 1, 1])\n",
    "output[\"bad\"] = fuzz.trimf(output.universe, [0, 0, 0.5])"
   ]
  },
  {
   "cell_type": "markdown",
   "metadata": {},
   "source": [
    "# Rules"
   ]
  },
  {
   "cell_type": "code",
   "execution_count": 9,
   "metadata": {},
   "outputs": [],
   "source": [
    "rule1 = create_rule(output, \"good\", \"mid_cartoon/movie_A/B\")\n",
    "rule2 = create_rule(output, \"good\", \"high_cartoon/movie_C\")"
   ]
  },
  {
   "cell_type": "code",
   "execution_count": 10,
   "metadata": {},
   "outputs": [],
   "source": [
    "controls = [rule1, rule2]"
   ]
  },
  {
   "cell_type": "markdown",
   "metadata": {},
   "source": [
    "# Control System"
   ]
  },
  {
   "cell_type": "code",
   "execution_count": 11,
   "metadata": {
    "scrolled": false
   },
   "outputs": [
    {
     "ename": "RuntimeError",
     "evalue": "Unable to resolve rule execution order. The most likely reason is two or more rules that depend on each other.\nPlease check the rule graph for loops.",
     "output_type": "error",
     "traceback": [
      "\u001b[1;31m---------------------------------------------------------------------------\u001b[0m",
      "\u001b[1;31mRuntimeError\u001b[0m                              Traceback (most recent call last)",
      "\u001b[1;32m<ipython-input-11-6a6a5f6bfc1d>\u001b[0m in \u001b[0;36m<module>\u001b[1;34m()\u001b[0m\n\u001b[1;32m----> 1\u001b[1;33m \u001b[0mcontrol_system\u001b[0m \u001b[1;33m=\u001b[0m \u001b[0mctrl\u001b[0m\u001b[1;33m.\u001b[0m\u001b[0mControlSystem\u001b[0m\u001b[1;33m(\u001b[0m\u001b[0mcontrols\u001b[0m\u001b[1;33m)\u001b[0m\u001b[1;33m\u001b[0m\u001b[0m\n\u001b[0m",
      "\u001b[1;32mC:\\Users\\nejck\\Anaconda2\\lib\\site-packages\\skfuzzy\\control\\controlsystem.pyc\u001b[0m in \u001b[0;36m__init__\u001b[1;34m(self, rules)\u001b[0m\n\u001b[0;32m     45\u001b[0m             \u001b[1;32mif\u001b[0m \u001b[0mhasattr\u001b[0m\u001b[1;33m(\u001b[0m\u001b[0mrules\u001b[0m\u001b[1;33m,\u001b[0m \u001b[1;34m'__iter__'\u001b[0m\u001b[1;33m)\u001b[0m\u001b[1;33m:\u001b[0m\u001b[1;33m\u001b[0m\u001b[0m\n\u001b[0;32m     46\u001b[0m                 \u001b[1;32mfor\u001b[0m \u001b[0mrule\u001b[0m \u001b[1;32min\u001b[0m \u001b[0mrules\u001b[0m\u001b[1;33m:\u001b[0m\u001b[1;33m\u001b[0m\u001b[0m\n\u001b[1;32m---> 47\u001b[1;33m                     \u001b[0mself\u001b[0m\u001b[1;33m.\u001b[0m\u001b[0maddrule\u001b[0m\u001b[1;33m(\u001b[0m\u001b[0mrule\u001b[0m\u001b[1;33m)\u001b[0m\u001b[1;33m\u001b[0m\u001b[0m\n\u001b[0m\u001b[0;32m     48\u001b[0m             \u001b[1;32melse\u001b[0m\u001b[1;33m:\u001b[0m\u001b[1;33m\u001b[0m\u001b[0m\n\u001b[0;32m     49\u001b[0m                 \u001b[1;32mtry\u001b[0m\u001b[1;33m:\u001b[0m\u001b[1;33m\u001b[0m\u001b[0m\n",
      "\u001b[1;32mC:\\Users\\nejck\\Anaconda2\\lib\\site-packages\\skfuzzy\\control\\controlsystem.pyc\u001b[0m in \u001b[0;36maddrule\u001b[1;34m(self, rule)\u001b[0m\n\u001b[0;32m     98\u001b[0m         \u001b[1;31m# Ensure no label duplication\u001b[0m\u001b[1;33m\u001b[0m\u001b[1;33m\u001b[0m\u001b[0m\n\u001b[0;32m     99\u001b[0m         \u001b[0mlabels\u001b[0m \u001b[1;33m=\u001b[0m \u001b[1;33m[\u001b[0m\u001b[1;33m]\u001b[0m\u001b[1;33m\u001b[0m\u001b[0m\n\u001b[1;32m--> 100\u001b[1;33m         \u001b[1;32mfor\u001b[0m \u001b[0mr\u001b[0m \u001b[1;32min\u001b[0m \u001b[0mself\u001b[0m\u001b[1;33m.\u001b[0m\u001b[0mrules\u001b[0m\u001b[1;33m:\u001b[0m\u001b[1;33m\u001b[0m\u001b[0m\n\u001b[0m\u001b[0;32m    101\u001b[0m             \u001b[1;32mif\u001b[0m \u001b[0mr\u001b[0m\u001b[1;33m.\u001b[0m\u001b[0mlabel\u001b[0m \u001b[1;32min\u001b[0m \u001b[0mlabels\u001b[0m\u001b[1;33m:\u001b[0m\u001b[1;33m\u001b[0m\u001b[0m\n\u001b[0;32m    102\u001b[0m                 raise ValueError(\"Input rule cannot have same label, '{0}', \"\n",
      "\u001b[1;32mC:\\Users\\nejck\\Anaconda2\\lib\\site-packages\\skfuzzy\\control\\controlsystem.pyc\u001b[0m in \u001b[0;36m__iter__\u001b[1;34m(self)\u001b[0m\n\u001b[0;32m    702\u001b[0m             \u001b[1;31m#  than we created the rule order for.  Thus, make new cache\u001b[0m\u001b[1;33m\u001b[0m\u001b[1;33m\u001b[0m\u001b[0m\n\u001b[0;32m    703\u001b[0m             \u001b[0mself\u001b[0m\u001b[1;33m.\u001b[0m\u001b[0m_init_state\u001b[0m\u001b[1;33m(\u001b[0m\u001b[1;33m)\u001b[0m\u001b[1;33m\u001b[0m\u001b[0m\n\u001b[1;32m--> 704\u001b[1;33m             \u001b[0mself\u001b[0m\u001b[1;33m.\u001b[0m\u001b[0m_cache\u001b[0m \u001b[1;33m=\u001b[0m \u001b[0mlist\u001b[0m\u001b[1;33m(\u001b[0m\u001b[0mself\u001b[0m\u001b[1;33m.\u001b[0m\u001b[0m_process_rules\u001b[0m\u001b[1;33m(\u001b[0m\u001b[0mself\u001b[0m\u001b[1;33m.\u001b[0m\u001b[0mall_rules\u001b[0m\u001b[1;33m[\u001b[0m\u001b[1;33m:\u001b[0m\u001b[1;33m]\u001b[0m\u001b[1;33m)\u001b[0m\u001b[1;33m)\u001b[0m\u001b[1;33m\u001b[0m\u001b[0m\n\u001b[0m\u001b[0;32m    705\u001b[0m             \u001b[0mself\u001b[0m\u001b[1;33m.\u001b[0m\u001b[0m_cached_graph\u001b[0m \u001b[1;33m=\u001b[0m \u001b[0mself\u001b[0m\u001b[1;33m.\u001b[0m\u001b[0mcontrol_system\u001b[0m\u001b[1;33m.\u001b[0m\u001b[0mgraph\u001b[0m\u001b[1;33m\u001b[0m\u001b[0m\n\u001b[0;32m    706\u001b[0m \u001b[1;33m\u001b[0m\u001b[0m\n",
      "\u001b[1;32mC:\\Users\\nejck\\Anaconda2\\lib\\site-packages\\skfuzzy\\control\\controlsystem.pyc\u001b[0m in \u001b[0;36m_process_rules\u001b[1;34m(self, rules)\u001b[0m\n\u001b[0;32m    751\u001b[0m             \u001b[1;32mif\u001b[0m \u001b[0mlen\u001b[0m\u001b[1;33m(\u001b[0m\u001b[0mskipped_rules\u001b[0m\u001b[1;33m)\u001b[0m \u001b[1;33m==\u001b[0m \u001b[0mlen_rules\u001b[0m\u001b[1;33m:\u001b[0m\u001b[1;33m\u001b[0m\u001b[0m\n\u001b[0;32m    752\u001b[0m                 \u001b[1;31m# Avoid being caught in an infinite loop\u001b[0m\u001b[1;33m\u001b[0m\u001b[1;33m\u001b[0m\u001b[0m\n\u001b[1;32m--> 753\u001b[1;33m                 raise RuntimeError(\"Unable to resolve rule execution order. \"\n\u001b[0m\u001b[0;32m    754\u001b[0m                                    \u001b[1;34m\"The most likely reason is two or more \"\u001b[0m\u001b[1;33m\u001b[0m\u001b[0m\n\u001b[0;32m    755\u001b[0m                                    \u001b[1;34m\"rules that depend on each other.\\n\"\u001b[0m\u001b[1;33m\u001b[0m\u001b[0m\n",
      "\u001b[1;31mRuntimeError\u001b[0m: Unable to resolve rule execution order. The most likely reason is two or more rules that depend on each other.\nPlease check the rule graph for loops."
     ]
    }
   ],
   "source": [
    "control_system = ctrl.ControlSystem(controls)"
   ]
  },
  {
   "cell_type": "code",
   "execution_count": null,
   "metadata": {},
   "outputs": [],
   "source": [
    "control_simulation = ctrl.ControlSystemSimulation(control_system)"
   ]
  },
  {
   "cell_type": "code",
   "execution_count": null,
   "metadata": {},
   "outputs": [],
   "source": [
    "control_simulation.inputs({\"channel\":0.29, \"means\":77, \"device\":1.4})\n",
    "control_simulation.compute()\n",
    "\n",
    "print control_simulation.output\n",
    "\n",
    "output.view(sim=control_simulation)"
   ]
  }
 ],
 "metadata": {
  "kernelspec": {
   "display_name": "Python 2",
   "language": "python",
   "name": "python2"
  },
  "language_info": {
   "codemirror_mode": {
    "name": "ipython",
    "version": 2
   },
   "file_extension": ".py",
   "mimetype": "text/x-python",
   "name": "python",
   "nbconvert_exporter": "python",
   "pygments_lexer": "ipython2",
   "version": "2.7.14"
  }
 },
 "nbformat": 4,
 "nbformat_minor": 2
}
